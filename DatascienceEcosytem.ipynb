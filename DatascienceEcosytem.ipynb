{
 "cells": [
  {
   "cell_type": "markdown",
   "id": "815285be-4034-47c2-9b90-da307f40358d",
   "metadata": {},
   "source": [
    "*****Data science tools and ecosystem*****"
   ]
  },
  {
   "cell_type": "markdown",
   "id": "dbb8d85b-93e4-4192-9903-5d8bd07a8456",
   "metadata": {},
   "source": [
    "In this notebook, Data science Tools and Ecosystem are summarized."
   ]
  },
  {
   "cell_type": "markdown",
   "id": "9261b989-5af0-4543-846c-b6acb84a35d8",
   "metadata": {},
   "source": [
    "***Some of the popular languages that data scientist use are-***\n"
   ]
  },
  {
   "cell_type": "markdown",
   "id": "002013fd-95e9-4565-ae18-c44acd678d58",
   "metadata": {
    "tags": []
   },
   "source": [
    "1)Python"
   ]
  },
  {
   "cell_type": "markdown",
   "id": "87171fda-57d1-432b-a58a-5c0e7d8f6474",
   "metadata": {},
   "source": [
    "2)R"
   ]
  },
  {
   "cell_type": "markdown",
   "id": "bd732e85-618c-41da-9879-13344083d357",
   "metadata": {},
   "source": [
    "3)Julia"
   ]
  },
  {
   "cell_type": "markdown",
   "id": "bf94f60a-d58e-4659-8e70-79312c424e76",
   "metadata": {},
   "source": [
    "4)C++"
   ]
  },
  {
   "cell_type": "markdown",
   "id": "0b47ecaf-7ca6-44d7-a9b8-920be2bfcf2b",
   "metadata": {},
   "source": [
    "***Some of the commonly used libraries used by data scientist are-***"
   ]
  },
  {
   "cell_type": "markdown",
   "id": "93c2a947-bfeb-4a79-8652-1247c58715fc",
   "metadata": {},
   "source": [
    "Pandas"
   ]
  },
  {
   "cell_type": "markdown",
   "id": "530d6e4b-180b-40ca-998c-dda771143069",
   "metadata": {},
   "source": [
    "Numpy"
   ]
  },
  {
   "cell_type": "markdown",
   "id": "3f040b43-400d-4c82-b278-db8c2bea792a",
   "metadata": {},
   "source": [
    "Tenserflow"
   ]
  },
  {
   "cell_type": "markdown",
   "id": "1f894fbe-3bae-4a38-b844-ee9328b6b128",
   "metadata": {},
   "source": [
    "|***DATA SCIENCE TOOLS***|\n",
    "|---|\n",
    "Anaconda\n",
    "||\n",
    "Jupyter Notebook\n",
    "||\n",
    "Apache spark\n"
   ]
  },
  {
   "cell_type": "markdown",
   "id": "ae8cb357-aafd-49dd-a3a4-1049f075cfad",
   "metadata": {},
   "source": [
    " **AUTHOR**\n",
    "\n",
    "Atul sandilya"
   ]
  },
  {
   "cell_type": "code",
   "execution_count": null,
   "id": "9d904cac-a581-43fc-a2f5-75d7567a1e4a",
   "metadata": {},
   "outputs": [],
   "source": []
  }
 ],
 "metadata": {
  "kernelspec": {
   "display_name": "Python",
   "language": "python",
   "name": "conda-env-python-py"
  },
  "language_info": {
   "codemirror_mode": {
    "name": "ipython",
    "version": 3
   },
   "file_extension": ".py",
   "mimetype": "text/x-python",
   "name": "python",
   "nbconvert_exporter": "python",
   "pygments_lexer": "ipython3",
   "version": "3.7.12"
  }
 },
 "nbformat": 4,
 "nbformat_minor": 5
}
